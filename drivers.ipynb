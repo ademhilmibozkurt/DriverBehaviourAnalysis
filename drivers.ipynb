{
 "cells": [
  {
   "cell_type": "markdown",
   "id": "26b0b69f-6344-4dda-b2f6-11c5d8ca934f",
   "metadata": {},
   "source": [
    "# Final Project: Classification Driving Behaviours"
   ]
  },
  {
   "cell_type": "markdown",
   "id": "cf19bf14-c792-47e5-9a29-78477695bca9",
   "metadata": {},
   "source": [
    "- Context\n",
    "\n",
    "Driver behavior is one of the most important aspects in the design, development, \n",
    "\n",
    "and application of Advanced Driving Assistance Systems (ADAS) and Intelligent Transportation Systems (ITS),\n",
    "\n",
    "which can be affected by many factors. If you are able to measure the driving style of your staff,\n",
    "\n",
    "there is a lot of actions you can take in order to improve fleet safety, global road safety as well as fuel efficiency and emissions.\n",
    "\n",
    "\n",
    "- Content\n",
    "\n",
    "Dataset for modeling risky driver behaviors based on accelerometer (X,Y,Z axis in meters per second squared (m/s2)) \n",
    "\n",
    "and gyroscope (X,Y, Z axis in degrees per second (°/s) ) data.\n",
    "\n",
    "- Sampling Rate: Average 2 samples (rows) per second\n",
    "- Cars: Ford Fiesta 1.4, Ford Fiesta 1.25, Hyundai i20\n",
    "- Drivers: 3 different drivers with the ages of 27, 28 and 37\n",
    "\n",
    "Driver Behaviors:\n",
    "- 1.Sudden Acceleration (Class Label: 1)\n",
    "- 2.Sudden Right Turn (Class Label: 2)\n",
    "- 3.Sudden Left Turn (Class Label: 3)\n",
    "- 4.Sudden Break (Class Label: 4)\n",
    "\n",
    "------------\n",
    "- Best Window Size: 14 seconds\n",
    "- Sensor: MPU6050\n",
    "- Device: Raspberry Pi 3 Model B"
   ]
  },
  {
   "cell_type": "markdown",
   "id": "db0e0a08-c5dc-48ec-9180-36bf35e480b8",
   "metadata": {},
   "source": [
    "## Import Dependencies"
   ]
  },
  {
   "cell_type": "code",
   "execution_count": 1,
   "id": "f1b5d0e4-2db1-4df3-98ab-daf19daef338",
   "metadata": {},
   "outputs": [],
   "source": [
    "import math\n",
    "import numpy as np\n",
    "import pandas as pd\n",
    "from matplotlib import pyplot as plt\n",
    "\n",
    "from scipy import interp\n",
    "\n",
    "from sklearn.metrics import roc_curve, auc\n",
    "from sklearn.metrics import roc_auc_score\n",
    "from sklearn.metrics import accuracy_score\n",
    "from sklearn.metrics import confusion_matrix\n",
    "from sklearn.metrics import RocCurveDisplay\n",
    "from sklearn.metrics import precision_recall_curve\n",
    "from sklearn.model_selection import cross_val_score\n",
    "from sklearn.model_selection import train_test_split\n",
    "from sklearn.metrics import classification_report\n",
    "from sklearn.metrics import confusion_matrix, plot_confusion_matrix\n",
    "from sklearn.preprocessing import LabelBinarizer\n",
    "\n",
    "from sklearn.svm import SVC\n",
    "from sklearn.model_selection import GridSearchCV\n",
    "\n",
    "import warnings\n",
    "warnings.filterwarnings(\"ignore\")"
   ]
  },
  {
   "cell_type": "markdown",
   "id": "d1f8a088-6fa0-48cd-be65-baa465872544",
   "metadata": {},
   "source": [
    "## Read Data"
   ]
  },
  {
   "cell_type": "code",
   "execution_count": 2,
   "id": "034ba742-d1a5-45ef-9927-4a36becf316b",
   "metadata": {
    "tags": []
   },
   "outputs": [],
   "source": [
    "df = pd.read_csv(\"drivers.csv\")"
   ]
  },
  {
   "cell_type": "code",
   "execution_count": 3,
   "id": "f3b82dea-4a11-4ab3-85a7-09e526a7537d",
   "metadata": {},
   "outputs": [
    {
     "data": {
      "text/html": [
       "<div>\n",
       "<style scoped>\n",
       "    .dataframe tbody tr th:only-of-type {\n",
       "        vertical-align: middle;\n",
       "    }\n",
       "\n",
       "    .dataframe tbody tr th {\n",
       "        vertical-align: top;\n",
       "    }\n",
       "\n",
       "    .dataframe thead th {\n",
       "        text-align: right;\n",
       "    }\n",
       "</style>\n",
       "<table border=\"1\" class=\"dataframe\">\n",
       "  <thead>\n",
       "    <tr style=\"text-align: right;\">\n",
       "      <th></th>\n",
       "      <th>Target</th>\n",
       "      <th>AccMeanX</th>\n",
       "      <th>AccMeanY</th>\n",
       "      <th>AccMeanZ</th>\n",
       "      <th>AccCovX</th>\n",
       "      <th>AccCovY</th>\n",
       "      <th>AccCovZ</th>\n",
       "      <th>AccSkewX</th>\n",
       "      <th>AccSkewY</th>\n",
       "      <th>AccSkewZ</th>\n",
       "      <th>...</th>\n",
       "      <th>GyroMaxZ</th>\n",
       "      <th>GyroVarX</th>\n",
       "      <th>GyroVarY</th>\n",
       "      <th>GyroVarZ</th>\n",
       "      <th>GyroMedianX</th>\n",
       "      <th>GyroMedianY</th>\n",
       "      <th>GyroMedianZ</th>\n",
       "      <th>GyroStdX</th>\n",
       "      <th>GyroStdY</th>\n",
       "      <th>GyroStdZ</th>\n",
       "    </tr>\n",
       "  </thead>\n",
       "  <tbody>\n",
       "    <tr>\n",
       "      <th>0</th>\n",
       "      <td>1</td>\n",
       "      <td>0.285339</td>\n",
       "      <td>-0.138611</td>\n",
       "      <td>-0.957764</td>\n",
       "      <td>0.022150</td>\n",
       "      <td>0.003975</td>\n",
       "      <td>0.001926</td>\n",
       "      <td>0.867594</td>\n",
       "      <td>-1.305868</td>\n",
       "      <td>-0.507254</td>\n",
       "      <td>...</td>\n",
       "      <td>0.832061</td>\n",
       "      <td>0.761120</td>\n",
       "      <td>0.184372</td>\n",
       "      <td>0.262859</td>\n",
       "      <td>-0.286260</td>\n",
       "      <td>4.251908</td>\n",
       "      <td>0.706107</td>\n",
       "      <td>0.872422</td>\n",
       "      <td>0.429385</td>\n",
       "      <td>0.512697</td>\n",
       "    </tr>\n",
       "    <tr>\n",
       "      <th>1</th>\n",
       "      <td>1</td>\n",
       "      <td>0.313477</td>\n",
       "      <td>-0.161670</td>\n",
       "      <td>-0.956250</td>\n",
       "      <td>0.020571</td>\n",
       "      <td>0.005640</td>\n",
       "      <td>0.001456</td>\n",
       "      <td>0.002474</td>\n",
       "      <td>-0.395088</td>\n",
       "      <td>-0.677572</td>\n",
       "      <td>...</td>\n",
       "      <td>0.832061</td>\n",
       "      <td>3.061080</td>\n",
       "      <td>0.585991</td>\n",
       "      <td>0.270340</td>\n",
       "      <td>0.335878</td>\n",
       "      <td>3.969466</td>\n",
       "      <td>0.587786</td>\n",
       "      <td>1.749594</td>\n",
       "      <td>0.765501</td>\n",
       "      <td>0.519942</td>\n",
       "    </tr>\n",
       "    <tr>\n",
       "      <th>2</th>\n",
       "      <td>1</td>\n",
       "      <td>0.325195</td>\n",
       "      <td>-0.158325</td>\n",
       "      <td>-0.950155</td>\n",
       "      <td>0.017281</td>\n",
       "      <td>0.004579</td>\n",
       "      <td>0.001388</td>\n",
       "      <td>-0.354212</td>\n",
       "      <td>-0.603657</td>\n",
       "      <td>-0.984635</td>\n",
       "      <td>...</td>\n",
       "      <td>0.832061</td>\n",
       "      <td>3.137076</td>\n",
       "      <td>0.552431</td>\n",
       "      <td>0.905518</td>\n",
       "      <td>-0.286260</td>\n",
       "      <td>3.832061</td>\n",
       "      <td>0.240458</td>\n",
       "      <td>1.771179</td>\n",
       "      <td>0.743257</td>\n",
       "      <td>0.951587</td>\n",
       "    </tr>\n",
       "    <tr>\n",
       "      <th>3</th>\n",
       "      <td>1</td>\n",
       "      <td>0.336565</td>\n",
       "      <td>-0.172468</td>\n",
       "      <td>-0.937640</td>\n",
       "      <td>0.015305</td>\n",
       "      <td>0.005216</td>\n",
       "      <td>0.002253</td>\n",
       "      <td>-0.655653</td>\n",
       "      <td>-0.152454</td>\n",
       "      <td>-0.040530</td>\n",
       "      <td>...</td>\n",
       "      <td>0.832061</td>\n",
       "      <td>2.809524</td>\n",
       "      <td>3.963056</td>\n",
       "      <td>0.893127</td>\n",
       "      <td>0.335878</td>\n",
       "      <td>3.969466</td>\n",
       "      <td>-0.106870</td>\n",
       "      <td>1.676163</td>\n",
       "      <td>1.990743</td>\n",
       "      <td>0.945054</td>\n",
       "    </tr>\n",
       "    <tr>\n",
       "      <th>4</th>\n",
       "      <td>1</td>\n",
       "      <td>0.337860</td>\n",
       "      <td>-0.164185</td>\n",
       "      <td>-0.941681</td>\n",
       "      <td>0.013132</td>\n",
       "      <td>0.005020</td>\n",
       "      <td>0.002062</td>\n",
       "      <td>-0.718488</td>\n",
       "      <td>-0.446061</td>\n",
       "      <td>0.250539</td>\n",
       "      <td>...</td>\n",
       "      <td>0.832061</td>\n",
       "      <td>2.667567</td>\n",
       "      <td>3.414394</td>\n",
       "      <td>0.799787</td>\n",
       "      <td>-0.286260</td>\n",
       "      <td>4.038168</td>\n",
       "      <td>-0.179389</td>\n",
       "      <td>1.633269</td>\n",
       "      <td>1.847808</td>\n",
       "      <td>0.894308</td>\n",
       "    </tr>\n",
       "  </tbody>\n",
       "</table>\n",
       "<p>5 rows × 61 columns</p>\n",
       "</div>"
      ],
      "text/plain": [
       "   Target  AccMeanX  AccMeanY  AccMeanZ   AccCovX   AccCovY   AccCovZ  \\\n",
       "0       1  0.285339 -0.138611 -0.957764  0.022150  0.003975  0.001926   \n",
       "1       1  0.313477 -0.161670 -0.956250  0.020571  0.005640  0.001456   \n",
       "2       1  0.325195 -0.158325 -0.950155  0.017281  0.004579  0.001388   \n",
       "3       1  0.336565 -0.172468 -0.937640  0.015305  0.005216  0.002253   \n",
       "4       1  0.337860 -0.164185 -0.941681  0.013132  0.005020  0.002062   \n",
       "\n",
       "   AccSkewX  AccSkewY  AccSkewZ  ...  GyroMaxZ  GyroVarX  GyroVarY  GyroVarZ  \\\n",
       "0  0.867594 -1.305868 -0.507254  ...  0.832061  0.761120  0.184372  0.262859   \n",
       "1  0.002474 -0.395088 -0.677572  ...  0.832061  3.061080  0.585991  0.270340   \n",
       "2 -0.354212 -0.603657 -0.984635  ...  0.832061  3.137076  0.552431  0.905518   \n",
       "3 -0.655653 -0.152454 -0.040530  ...  0.832061  2.809524  3.963056  0.893127   \n",
       "4 -0.718488 -0.446061  0.250539  ...  0.832061  2.667567  3.414394  0.799787   \n",
       "\n",
       "   GyroMedianX  GyroMedianY  GyroMedianZ  GyroStdX  GyroStdY  GyroStdZ  \n",
       "0    -0.286260     4.251908     0.706107  0.872422  0.429385  0.512697  \n",
       "1     0.335878     3.969466     0.587786  1.749594  0.765501  0.519942  \n",
       "2    -0.286260     3.832061     0.240458  1.771179  0.743257  0.951587  \n",
       "3     0.335878     3.969466    -0.106870  1.676163  1.990743  0.945054  \n",
       "4    -0.286260     4.038168    -0.179389  1.633269  1.847808  0.894308  \n",
       "\n",
       "[5 rows x 61 columns]"
      ]
     },
     "execution_count": 3,
     "metadata": {},
     "output_type": "execute_result"
    }
   ],
   "source": [
    "df.head()"
   ]
  },
  {
   "cell_type": "markdown",
   "id": "1ebc3ee6-889e-434d-b106-5e44569e4001",
   "metadata": {},
   "source": [
    "\"Target\" column is our output label. Other columns are independent variables."
   ]
  },
  {
   "cell_type": "code",
   "execution_count": 4,
   "id": "f39d0a01-6828-4f1e-bf58-f042edf4cfe5",
   "metadata": {},
   "outputs": [
    {
     "data": {
      "text/plain": [
       "(1102, 61)"
      ]
     },
     "execution_count": 4,
     "metadata": {},
     "output_type": "execute_result"
    }
   ],
   "source": [
    "df.shape"
   ]
  },
  {
   "cell_type": "markdown",
   "id": "87bdf673-18fa-46a0-96a9-d87468078c68",
   "metadata": {},
   "source": [
    "## Variable Decomposition"
   ]
  },
  {
   "cell_type": "code",
   "execution_count": 5,
   "id": "f37b7d2e-8dc9-446b-b782-af8cc65e0630",
   "metadata": {
    "tags": []
   },
   "outputs": [],
   "source": [
    "x = df.iloc[: ,1:]\n",
    "y = df.iloc[:, 0]"
   ]
  },
  {
   "cell_type": "code",
   "execution_count": 6,
   "id": "8785d72d-bbab-4705-8edd-b607320c72d0",
   "metadata": {},
   "outputs": [
    {
     "data": {
      "text/html": [
       "<div>\n",
       "<style scoped>\n",
       "    .dataframe tbody tr th:only-of-type {\n",
       "        vertical-align: middle;\n",
       "    }\n",
       "\n",
       "    .dataframe tbody tr th {\n",
       "        vertical-align: top;\n",
       "    }\n",
       "\n",
       "    .dataframe thead th {\n",
       "        text-align: right;\n",
       "    }\n",
       "</style>\n",
       "<table border=\"1\" class=\"dataframe\">\n",
       "  <thead>\n",
       "    <tr style=\"text-align: right;\">\n",
       "      <th></th>\n",
       "      <th>AccMeanX</th>\n",
       "      <th>AccMeanY</th>\n",
       "      <th>AccMeanZ</th>\n",
       "      <th>AccCovX</th>\n",
       "      <th>AccCovY</th>\n",
       "      <th>AccCovZ</th>\n",
       "      <th>AccSkewX</th>\n",
       "      <th>AccSkewY</th>\n",
       "      <th>AccSkewZ</th>\n",
       "      <th>AccKurtX</th>\n",
       "      <th>...</th>\n",
       "      <th>GyroMaxZ</th>\n",
       "      <th>GyroVarX</th>\n",
       "      <th>GyroVarY</th>\n",
       "      <th>GyroVarZ</th>\n",
       "      <th>GyroMedianX</th>\n",
       "      <th>GyroMedianY</th>\n",
       "      <th>GyroMedianZ</th>\n",
       "      <th>GyroStdX</th>\n",
       "      <th>GyroStdY</th>\n",
       "      <th>GyroStdZ</th>\n",
       "    </tr>\n",
       "  </thead>\n",
       "  <tbody>\n",
       "    <tr>\n",
       "      <th>0</th>\n",
       "      <td>0.285339</td>\n",
       "      <td>-0.138611</td>\n",
       "      <td>-0.957764</td>\n",
       "      <td>0.022150</td>\n",
       "      <td>0.003975</td>\n",
       "      <td>0.001926</td>\n",
       "      <td>0.867594</td>\n",
       "      <td>-1.305868</td>\n",
       "      <td>-0.507254</td>\n",
       "      <td>-1.164806</td>\n",
       "      <td>...</td>\n",
       "      <td>0.832061</td>\n",
       "      <td>0.761120</td>\n",
       "      <td>0.184372</td>\n",
       "      <td>0.262859</td>\n",
       "      <td>-0.286260</td>\n",
       "      <td>4.251908</td>\n",
       "      <td>0.706107</td>\n",
       "      <td>0.872422</td>\n",
       "      <td>0.429385</td>\n",
       "      <td>0.512697</td>\n",
       "    </tr>\n",
       "    <tr>\n",
       "      <th>1</th>\n",
       "      <td>0.313477</td>\n",
       "      <td>-0.161670</td>\n",
       "      <td>-0.956250</td>\n",
       "      <td>0.020571</td>\n",
       "      <td>0.005640</td>\n",
       "      <td>0.001456</td>\n",
       "      <td>0.002474</td>\n",
       "      <td>-0.395088</td>\n",
       "      <td>-0.677572</td>\n",
       "      <td>-2.649441</td>\n",
       "      <td>...</td>\n",
       "      <td>0.832061</td>\n",
       "      <td>3.061080</td>\n",
       "      <td>0.585991</td>\n",
       "      <td>0.270340</td>\n",
       "      <td>0.335878</td>\n",
       "      <td>3.969466</td>\n",
       "      <td>0.587786</td>\n",
       "      <td>1.749594</td>\n",
       "      <td>0.765501</td>\n",
       "      <td>0.519942</td>\n",
       "    </tr>\n",
       "    <tr>\n",
       "      <th>2</th>\n",
       "      <td>0.325195</td>\n",
       "      <td>-0.158325</td>\n",
       "      <td>-0.950155</td>\n",
       "      <td>0.017281</td>\n",
       "      <td>0.004579</td>\n",
       "      <td>0.001388</td>\n",
       "      <td>-0.354212</td>\n",
       "      <td>-0.603657</td>\n",
       "      <td>-0.984635</td>\n",
       "      <td>-1.819232</td>\n",
       "      <td>...</td>\n",
       "      <td>0.832061</td>\n",
       "      <td>3.137076</td>\n",
       "      <td>0.552431</td>\n",
       "      <td>0.905518</td>\n",
       "      <td>-0.286260</td>\n",
       "      <td>3.832061</td>\n",
       "      <td>0.240458</td>\n",
       "      <td>1.771179</td>\n",
       "      <td>0.743257</td>\n",
       "      <td>0.951587</td>\n",
       "    </tr>\n",
       "    <tr>\n",
       "      <th>3</th>\n",
       "      <td>0.336565</td>\n",
       "      <td>-0.172468</td>\n",
       "      <td>-0.937640</td>\n",
       "      <td>0.015305</td>\n",
       "      <td>0.005216</td>\n",
       "      <td>0.002253</td>\n",
       "      <td>-0.655653</td>\n",
       "      <td>-0.152454</td>\n",
       "      <td>-0.040530</td>\n",
       "      <td>-1.214712</td>\n",
       "      <td>...</td>\n",
       "      <td>0.832061</td>\n",
       "      <td>2.809524</td>\n",
       "      <td>3.963056</td>\n",
       "      <td>0.893127</td>\n",
       "      <td>0.335878</td>\n",
       "      <td>3.969466</td>\n",
       "      <td>-0.106870</td>\n",
       "      <td>1.676163</td>\n",
       "      <td>1.990743</td>\n",
       "      <td>0.945054</td>\n",
       "    </tr>\n",
       "    <tr>\n",
       "      <th>4</th>\n",
       "      <td>0.337860</td>\n",
       "      <td>-0.164185</td>\n",
       "      <td>-0.941681</td>\n",
       "      <td>0.013132</td>\n",
       "      <td>0.005020</td>\n",
       "      <td>0.002062</td>\n",
       "      <td>-0.718488</td>\n",
       "      <td>-0.446061</td>\n",
       "      <td>0.250539</td>\n",
       "      <td>-0.666622</td>\n",
       "      <td>...</td>\n",
       "      <td>0.832061</td>\n",
       "      <td>2.667567</td>\n",
       "      <td>3.414394</td>\n",
       "      <td>0.799787</td>\n",
       "      <td>-0.286260</td>\n",
       "      <td>4.038168</td>\n",
       "      <td>-0.179389</td>\n",
       "      <td>1.633269</td>\n",
       "      <td>1.847808</td>\n",
       "      <td>0.894308</td>\n",
       "    </tr>\n",
       "  </tbody>\n",
       "</table>\n",
       "<p>5 rows × 60 columns</p>\n",
       "</div>"
      ],
      "text/plain": [
       "   AccMeanX  AccMeanY  AccMeanZ   AccCovX   AccCovY   AccCovZ  AccSkewX  \\\n",
       "0  0.285339 -0.138611 -0.957764  0.022150  0.003975  0.001926  0.867594   \n",
       "1  0.313477 -0.161670 -0.956250  0.020571  0.005640  0.001456  0.002474   \n",
       "2  0.325195 -0.158325 -0.950155  0.017281  0.004579  0.001388 -0.354212   \n",
       "3  0.336565 -0.172468 -0.937640  0.015305  0.005216  0.002253 -0.655653   \n",
       "4  0.337860 -0.164185 -0.941681  0.013132  0.005020  0.002062 -0.718488   \n",
       "\n",
       "   AccSkewY  AccSkewZ  AccKurtX  ...  GyroMaxZ  GyroVarX  GyroVarY  GyroVarZ  \\\n",
       "0 -1.305868 -0.507254 -1.164806  ...  0.832061  0.761120  0.184372  0.262859   \n",
       "1 -0.395088 -0.677572 -2.649441  ...  0.832061  3.061080  0.585991  0.270340   \n",
       "2 -0.603657 -0.984635 -1.819232  ...  0.832061  3.137076  0.552431  0.905518   \n",
       "3 -0.152454 -0.040530 -1.214712  ...  0.832061  2.809524  3.963056  0.893127   \n",
       "4 -0.446061  0.250539 -0.666622  ...  0.832061  2.667567  3.414394  0.799787   \n",
       "\n",
       "   GyroMedianX  GyroMedianY  GyroMedianZ  GyroStdX  GyroStdY  GyroStdZ  \n",
       "0    -0.286260     4.251908     0.706107  0.872422  0.429385  0.512697  \n",
       "1     0.335878     3.969466     0.587786  1.749594  0.765501  0.519942  \n",
       "2    -0.286260     3.832061     0.240458  1.771179  0.743257  0.951587  \n",
       "3     0.335878     3.969466    -0.106870  1.676163  1.990743  0.945054  \n",
       "4    -0.286260     4.038168    -0.179389  1.633269  1.847808  0.894308  \n",
       "\n",
       "[5 rows x 60 columns]"
      ]
     },
     "execution_count": 6,
     "metadata": {},
     "output_type": "execute_result"
    }
   ],
   "source": [
    "x[0:5]"
   ]
  },
  {
   "cell_type": "code",
   "execution_count": 7,
   "id": "bce68832-86b1-488e-b0f8-bdd3f66c75e3",
   "metadata": {},
   "outputs": [
    {
     "data": {
      "text/plain": [
       "0    1\n",
       "1    1\n",
       "2    1\n",
       "3    1\n",
       "4    1\n",
       "Name: Target, dtype: int64"
      ]
     },
     "execution_count": 7,
     "metadata": {},
     "output_type": "execute_result"
    }
   ],
   "source": [
    "y[0:5]"
   ]
  },
  {
   "cell_type": "markdown",
   "id": "6b6995d9-87e0-4fea-8ccb-88476c90e17c",
   "metadata": {},
   "source": [
    "- x: independent variables\n",
    "- y: dependent variable"
   ]
  },
  {
   "cell_type": "markdown",
   "id": "be3c4fee-6014-4838-b826-7dcddc6528a3",
   "metadata": {},
   "source": [
    "## Train-Test Split"
   ]
  },
  {
   "cell_type": "code",
   "execution_count": 8,
   "id": "f80e5aa9-722c-4d63-876a-db34d9877e2e",
   "metadata": {},
   "outputs": [],
   "source": [
    "x_train, x_test, y_train, y_test = train_test_split(x, y, test_size=0.2, random_state=1)"
   ]
  },
  {
   "cell_type": "markdown",
   "id": "9504cdbc-6138-422b-b85f-2d7516a262f7",
   "metadata": {},
   "source": [
    "## Support Vector Machines Model"
   ]
  },
  {
   "cell_type": "code",
   "execution_count": 9,
   "id": "34039a0a-3a0f-45ad-b591-ee951cd771bb",
   "metadata": {},
   "outputs": [],
   "source": [
    "svc = SVC()\n",
    "svc_model = svc.fit(x_train, y_train)"
   ]
  },
  {
   "cell_type": "code",
   "execution_count": 10,
   "id": "07e3d0aa-9ee1-49d4-9195-90bd25b89d2c",
   "metadata": {},
   "outputs": [
    {
     "data": {
      "text/plain": [
       "0.8099547511312217"
      ]
     },
     "execution_count": 10,
     "metadata": {},
     "output_type": "execute_result"
    }
   ],
   "source": [
    "y_pred = svc_model.predict(x_test)\n",
    "accuracy_score(y_test, y_pred)"
   ]
  },
  {
   "cell_type": "code",
   "execution_count": 11,
   "id": "602b34d9-a4c6-4318-8cc7-3e364f86425e",
   "metadata": {},
   "outputs": [
    {
     "data": {
      "text/plain": [
       "0.7195483154387263"
      ]
     },
     "execution_count": 11,
     "metadata": {},
     "output_type": "execute_result"
    }
   ],
   "source": [
    "cross_val_score(svc_model, x_test, y_test, cv=3).mean()"
   ]
  },
  {
   "cell_type": "code",
   "execution_count": 12,
   "id": "752026d3-dd9a-4114-9719-bd3a18e9d5ac",
   "metadata": {},
   "outputs": [
    {
     "data": {
      "text/plain": [
       "0.7194949494949495"
      ]
     },
     "execution_count": 12,
     "metadata": {},
     "output_type": "execute_result"
    }
   ],
   "source": [
    "cross_val_score(svc_model, x_test, y_test, cv=5).mean()"
   ]
  },
  {
   "cell_type": "code",
   "execution_count": 13,
   "id": "995ab087-b4e3-4463-9f70-eec729442761",
   "metadata": {},
   "outputs": [
    {
     "data": {
      "text/plain": [
       "0.7197628458498023"
      ]
     },
     "execution_count": 13,
     "metadata": {},
     "output_type": "execute_result"
    }
   ],
   "source": [
    "cross_val_score(svc_model, x_test, y_test, cv=10).mean()"
   ]
  },
  {
   "cell_type": "markdown",
   "id": "9d158452-f0a4-4d16-8bb5-72efc466de68",
   "metadata": {},
   "source": [
    "## SVC Model Tuning"
   ]
  },
  {
   "cell_type": "code",
   "execution_count": 14,
   "id": "f5e2cf16-5789-4a4f-9ec6-99e6566ede8d",
   "metadata": {},
   "outputs": [],
   "source": [
    "param_grid = [\n",
    "  {'C': [1, 10, 100, 1000], 'kernel': ['linear']},\n",
    "  {'C': [1, 10, 100, 1000], 'gamma': [0.001, 0.0001], 'kernel': ['rbf']}]"
   ]
  },
  {
   "cell_type": "code",
   "execution_count": 15,
   "id": "cc741b69-6b18-47f0-94b9-fed1b32f7331",
   "metadata": {},
   "outputs": [],
   "source": [
    "grid_search = GridSearchCV(svc_model,\n",
    "                           param_grid,\n",
    "                           cv=10).fit(x_train, y_train)"
   ]
  },
  {
   "cell_type": "code",
   "execution_count": 16,
   "id": "0a4c6f07-d689-47c9-9d97-183ed4801f39",
   "metadata": {},
   "outputs": [
    {
     "data": {
      "text/plain": [
       "{'C': 100, 'gamma': 0.001, 'kernel': 'rbf'}"
      ]
     },
     "execution_count": 16,
     "metadata": {},
     "output_type": "execute_result"
    }
   ],
   "source": [
    "grid_search.best_params_"
   ]
  },
  {
   "cell_type": "code",
   "execution_count": 17,
   "id": "7ea4543f-d30b-43dd-8144-3c6df8a9943c",
   "metadata": {
    "tags": []
   },
   "outputs": [],
   "source": [
    "svc = SVC(C=100, gamma=0.001, kernel='rbf')\n",
    "svc_tuned = svc.fit(x_train, y_train)"
   ]
  },
  {
   "cell_type": "code",
   "execution_count": 18,
   "id": "96bd8af5-992a-4d5e-a468-ec73ef6ab39b",
   "metadata": {},
   "outputs": [
    {
     "data": {
      "text/plain": [
       "0.9909502262443439"
      ]
     },
     "execution_count": 18,
     "metadata": {},
     "output_type": "execute_result"
    }
   ],
   "source": [
    "y_pred_tuned = svc_tuned.predict(x_test)\n",
    "accuracy_score(y_test, y_pred_tuned)"
   ]
  },
  {
   "cell_type": "markdown",
   "id": "04299920-d12d-49e7-897f-ed2c6f1b922e",
   "metadata": {},
   "source": [
    "## Performance Metrics"
   ]
  },
  {
   "cell_type": "markdown",
   "id": "27523205-a8a4-410d-89a2-d23ea3da7728",
   "metadata": {},
   "source": [
    "Sensitivity, specificity, Precision, F1 score and AUC"
   ]
  },
  {
   "cell_type": "markdown",
   "id": "0bd0489b-94ab-4b4a-aa41-69441a005a23",
   "metadata": {},
   "source": [
    "### Confusion Matrix"
   ]
  },
  {
   "cell_type": "markdown",
   "id": "d630056b-8b99-4ff1-b0d6-269cf1c760e5",
   "metadata": {},
   "source": [
    "#### Non-Tuned Model"
   ]
  },
  {
   "cell_type": "code",
   "execution_count": 19,
   "id": "93f58350-1150-448c-b230-3e5ed8d52a38",
   "metadata": {},
   "outputs": [
    {
     "name": "stdout",
     "output_type": "stream",
     "text": [
      "[[36  0  0 22]\n",
      " [ 0 54  0  0]\n",
      " [ 8  0 47  6]\n",
      " [ 6  0  0 42]]\n"
     ]
    },
    {
     "data": {
      "image/png": "[encoded data removed]",
      "text/plain": [
       "<Figure size 432x288 with 2 Axes>"
      ]
     },
     "metadata": {
      "needs_background": "light"
     },
     "output_type": "display_data"
    }
   ],
   "source": [
    "print(confusion_matrix(y_test, y_pred))\n",
    "plot_confusion_matrix(svc_model, x_test, y_test, cmap='gray_r');"
   ]
  },
  {
   "cell_type": "markdown",
   "id": "4a5b5b9a-406d-421a-a7ef-27c008dc1e4d",
   "metadata": {},
   "source": [
    "#### Tuned Model"
   ]
  },
  {
   "cell_type": "code",
   "execution_count": 20,
   "id": "6d28e557-bd85-4dec-a6f4-8e2e1f4440a3",
   "metadata": {},
   "outputs": [
    {
     "name": "stdout",
     "output_type": "stream",
     "text": [
      "[[58  0  0  0]\n",
      " [ 0 54  0  0]\n",
      " [ 1  0 59  1]\n",
      " [ 0  0  0 48]]\n"
     ]
    },
    {
     "data": {
      "image/png": "[encoded data removed]",
      "text/plain": [
       "<Figure size 432x288 with 2 Axes>"
      ]
     },
     "metadata": {
      "needs_background": "light"
     },
     "output_type": "display_data"
    }
   ],
   "source": [
    "print(confusion_matrix(y_test, y_pred_tuned))\n",
    "plot_confusion_matrix(svc_tuned, x_test, y_test, cmap='gray_r');"
   ]
  },
  {
   "cell_type": "code",
   "execution_count": 21,
   "id": "c5c6dfa2-a4d0-4186-bc6e-254854ded6e8",
   "metadata": {},
   "outputs": [
    {
     "name": "stdout",
     "output_type": "stream",
     "text": [
      "              precision    recall  f1-score   support\n",
      "\n",
      "           1       0.98      1.00      0.99        58\n",
      "           2       1.00      1.00      1.00        54\n",
      "           3       1.00      0.97      0.98        61\n",
      "           4       0.98      1.00      0.99        48\n",
      "\n",
      "    accuracy                           0.99       221\n",
      "   macro avg       0.99      0.99      0.99       221\n",
      "weighted avg       0.99      0.99      0.99       221\n",
      "\n"
     ]
    }
   ],
   "source": [
    "print(classification_report(y_test, y_pred_tuned))"
   ]
  },
  {
   "cell_type": "markdown",
   "id": "2ebd765b-81b6-41dc-b2e6-0d7cf139ee1d",
   "metadata": {},
   "source": [
    "### Scorings"
   ]
  },
  {
   "cell_type": "code",
   "execution_count": 22,
   "id": "49b3171c-6b10-46dc-8ad3-fbca28300938",
   "metadata": {},
   "outputs": [],
   "source": [
    "def matrix_metrix(y_test,y_pred,beta):\n",
    "   CM = confusion_matrix(y_test,y_pred)\n",
    "   TN = CM[0][0]\n",
    "   FN = CM[1][0] \n",
    "   TP = CM[1][1]\n",
    "   FP = CM[0][1]\n",
    "\n",
    "   Specificity= round( TN / (TN+FP),4 ) \n",
    "   Sensitivity= round( TP / (TP+FN),4 ) \n",
    "\n",
    "   Prevalence = round( (TP+FP) / (TN+FN+TP+FP),2)\n",
    "   Accuracy   = round( (TP+TN) / (TN+FN+TP+FP),4)\n",
    "   Precision  = round( TP / (TP+FP),4 )\n",
    "   F1         = round ( 2 * ((Precision*Sensitivity)/(Precision+Sensitivity)),4)\n",
    "   FBeta      = round ( (1+beta**2)*((Precision*Sensitivity)/((beta**2 * Precision)+ Sensitivity)) ,4)\n",
    "\n",
    "   mat_met = pd.DataFrame({\n",
    "                'Metric':['TP','TN','FP','FN','Specificity','Sensitivity','Prevalence',\n",
    "                          'Accuracy','Precision','F1','FBeta'],\n",
    "                'Value':[TP,TN,FP,FN,Specificity,Sensitivity,Prevalence,Accuracy,Precision,F1,FBeta]})\n",
    "\n",
    "   return (mat_met)"
   ]
  },
  {
   "cell_type": "markdown",
   "id": "ed59aea5-defa-4b14-8ba4-34f0aca3c6fe",
   "metadata": {},
   "source": [
    "Specificity = Selectivity,\n",
    "\n",
    "Sensitivity = Recall = Power"
   ]
  },
  {
   "cell_type": "code",
   "execution_count": 23,
   "id": "2b55100b-204c-4caf-8b76-e579d844447b",
   "metadata": {},
   "outputs": [
    {
     "name": "stdout",
     "output_type": "stream",
     "text": [
      "         Metric  Value\n",
      "0            TP  54.00\n",
      "1            TN  58.00\n",
      "2            FP   0.00\n",
      "3            FN   0.00\n",
      "4   Specificity   1.00\n",
      "5   Sensitivity   1.00\n",
      "6    Prevalence   0.48\n",
      "7      Accuracy   1.00\n",
      "8     Precision   1.00\n",
      "9            F1   1.00\n",
      "10        FBeta   1.00\n"
     ]
    }
   ],
   "source": [
    "beta = 0.4\n",
    "mat_met = matrix_metrix(y_test,y_pred_tuned,beta)\n",
    "print (mat_met)"
   ]
  },
  {
   "cell_type": "markdown",
   "id": "3af955c3-04cf-4fc7-b310-5e2827220a2c",
   "metadata": {},
   "source": [
    "### ROC Implementation For Sudden Acceleration"
   ]
  },
  {
   "cell_type": "code",
   "execution_count": 24,
   "id": "39015784-d881-43cb-bb51-663c022845d7",
   "metadata": {},
   "outputs": [
    {
     "data": {
      "text/plain": [
       "(221, 4)"
      ]
     },
     "execution_count": 24,
     "metadata": {},
     "output_type": "execute_result"
    }
   ],
   "source": [
    "label_binarizer = LabelBinarizer().fit(y_train)\n",
    "y_onehot_test = label_binarizer.transform(y_test)\n",
    "y_onehot_test.shape  # (n_samples, n_classes)"
   ]
  },
  {
   "cell_type": "code",
   "execution_count": 25,
   "id": "07f52eec-467a-4ebe-9938-5c25fa1e55a2",
   "metadata": {
    "tags": []
   },
   "outputs": [],
   "source": [
    "label_binarizer = LabelBinarizer().fit(y_test)\n",
    "y_tuned = label_binarizer.transform(y_pred_tuned)"
   ]
  },
  {
   "cell_type": "code",
   "execution_count": 26,
   "id": "e18a6abd-7796-4928-b27f-49ea23f995dd",
   "metadata": {},
   "outputs": [],
   "source": [
    "y_sAcc = y_tuned[:, 0]"
   ]
  },
  {
   "cell_type": "code",
   "execution_count": 27,
   "id": "541472cb-729b-4f54-b722-369f2583418d",
   "metadata": {
    "tags": []
   },
   "outputs": [
    {
     "name": "stdout",
     "output_type": "stream",
     "text": [
      "AUC: 0.997\n"
     ]
    },
    {
     "data": {
      "image/png": "[encoded data removed]",
      "text/plain": [
       "<Figure size 432x288 with 1 Axes>"
      ]
     },
     "metadata": {
      "needs_background": "light"
     },
     "output_type": "display_data"
    }
   ],
   "source": [
    "fpr, tpr, thresholds = roc_curve(y_onehot_test[:,0], y_sAcc)\n",
    "auc = roc_auc_score(y_onehot_test[:,0], y_sAcc)\n",
    "print('AUC: %.3f' % auc)\n",
    "plt.plot(fpr, tpr, linestyle='--', label='Roc curve')\n",
    "plt.xlabel('False Positive Rate')\n",
    "plt.ylabel('True Positive Rate')\n",
    "plt.legend()\n",
    "plt.show()"
   ]
  },
  {
   "cell_type": "markdown",
   "id": "8e6ca7a5-c8ec-49ea-bde1-4886fefef4ec",
   "metadata": {},
   "source": [
    "### Precision-Recall Implementation For Sudden Acceleration"
   ]
  },
  {
   "cell_type": "code",
   "execution_count": 28,
   "id": "c5daea35-345b-49ea-8480-411e04d94f55",
   "metadata": {},
   "outputs": [
    {
     "data": {
      "image/png": "[encoded data removed]",
      "text/plain": [
       "<Figure size 432x288 with 1 Axes>"
      ]
     },
     "metadata": {
      "needs_background": "light"
     },
     "output_type": "display_data"
    }
   ],
   "source": [
    "#Precision-recall implementation\n",
    "precision, recall, thresholds = precision_recall_curve(y_onehot_test[:,0], y_sAcc)\n",
    "plt.plot(recall, precision, linestyle='--', label='Precision versus Recall')\n",
    "plt.xlabel('Recall')\n",
    "plt.ylabel('Precision')\n",
    "plt.legend()\n",
    "plt.show()"
   ]
  },
  {
   "cell_type": "markdown",
   "id": "48f94f55-7e16-4c52-bcf9-55d06a282fda",
   "metadata": {},
   "source": [
    "### ROC Implementation For Sudden Brake"
   ]
  },
  {
   "cell_type": "code",
   "execution_count": 29,
   "id": "152c8c3f-c355-4310-862b-dc04278d8283",
   "metadata": {},
   "outputs": [],
   "source": [
    "y_sBrake = y_tuned[:, 3]"
   ]
  },
  {
   "cell_type": "code",
   "execution_count": 30,
   "id": "e5b21301-edfc-4e58-a8b2-a8e38b538474",
   "metadata": {},
   "outputs": [
    {
     "name": "stdout",
     "output_type": "stream",
     "text": [
      "AUC: 0.997\n"
     ]
    },
    {
     "data": {
      "image/png": "[encoded data removed]",
      "text/plain": [
       "<Figure size 432x288 with 1 Axes>"
      ]
     },
     "metadata": {
      "needs_background": "light"
     },
     "output_type": "display_data"
    }
   ],
   "source": [
    "fpr, tpr, thresholds = roc_curve(y_onehot_test[:,3], y_sBrake)\n",
    "auc = roc_auc_score(y_onehot_test[:,3], y_sBrake)\n",
    "print('AUC: %.3f' % auc)\n",
    "plt.plot(fpr, tpr, linestyle='--', label='Roc curve')\n",
    "plt.xlabel('False Positive Rate')\n",
    "plt.ylabel('True Positive Rate')\n",
    "plt.legend()\n",
    "plt.show()"
   ]
  },
  {
   "cell_type": "markdown",
   "id": "f8ac3ed9-9d3a-4655-abf7-5cbfd27b0837",
   "metadata": {},
   "source": [
    "### Precision-Recall Implementation For Sudden Brake"
   ]
  },
  {
   "cell_type": "code",
   "execution_count": 31,
   "id": "74c11c1c-f9af-425c-a8a8-2c85cbd0864e",
   "metadata": {},
   "outputs": [
    {
     "data": {
      "image/png": "[encoded data removed]",
      "text/plain": [
       "<Figure size 432x288 with 1 Axes>"
      ]
     },
     "metadata": {
      "needs_background": "light"
     },
     "output_type": "display_data"
    }
   ],
   "source": [
    "#Precision-recall implementation\n",
    "precision, recall, thresholds = precision_recall_curve(y_onehot_test[:,3], y_sBrake)\n",
    "plt.plot(recall, precision, linestyle='--', label='Precision versus Recall')\n",
    "plt.xlabel('Recall')\n",
    "plt.ylabel('Precision')\n",
    "plt.legend()\n",
    "plt.show()"
   ]
  },
  {
   "cell_type": "code",
   "execution_count": null,
   "id": "51dbfb55-9be2-4541-b8b5-aa2a3ea2e4e4",
   "metadata": {},
   "outputs": [],
   "source": []
  }
 ],
 "metadata": {
  "kernelspec": {
   "display_name": "Python 3",
   "language": "python",
   "name": "python3"
  },
  "language_info": {
   "codemirror_mode": {
    "name": "ipython",
    "version": 3
   },
   "file_extension": ".py",
   "mimetype": "text/x-python",
   "name": "python",
   "nbconvert_exporter": "python",
   "pygments_lexer": "ipython3",
   "version": "3.8.8"
  }
 },
 "nbformat": 4,
 "nbformat_minor": 5
}
